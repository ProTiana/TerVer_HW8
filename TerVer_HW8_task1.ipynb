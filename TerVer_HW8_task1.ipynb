{
 "cells": [
  {
   "cell_type": "code",
   "execution_count": 28,
   "id": "fc8023ad",
   "metadata": {},
   "outputs": [
    {
     "data": {
      "text/plain": [
       "(array([ 35,  45, 190, 200,  40,  70,  54, 150, 120, 110]),\n",
       " array([401, 574, 874, 919, 459, 739, 653, 902, 746, 832]))"
      ]
     },
     "execution_count": 28,
     "metadata": {},
     "output_type": "execute_result"
    }
   ],
   "source": [
    "import numpy as np\n",
    "import pandas as pd\n",
    "from scipy import stats\n",
    "\n",
    "zp = np.array([35, 45, 190, 200, 40, 70, 54, 150, 120, 110])\n",
    "ks = np.array([401, 574, 874, 919, 459, 739, 653, 902, 746, 832])\n",
    "zp, ks"
   ]
  },
  {
   "cell_type": "code",
   "execution_count": 10,
   "id": "715e8826",
   "metadata": {},
   "outputs": [
    {
     "data": {
      "text/plain": [
       "(101.4, 709.9, 81141.7)"
      ]
     },
     "execution_count": 10,
     "metadata": {},
     "output_type": "execute_result"
    }
   ],
   "source": [
    "#найдем средние значения по выборкам\n",
    "zp_mean=np.mean(zp)\n",
    "ks_mean=np.mean(ks)\n",
    "zp_ks_mean=np.mean(zp*ks)\n",
    "zp_mean, ks_mean, zp_ks_mean"
   ]
  },
  {
   "cell_type": "code",
   "execution_count": 13,
   "id": "db166006",
   "metadata": {},
   "outputs": [
    {
     "data": {
      "text/plain": [
       "9157.839999999997"
      ]
     },
     "execution_count": 13,
     "metadata": {},
     "output_type": "execute_result"
    }
   ],
   "source": [
    "#найдем ковариацию по формуле cov=m(xy)-m(x)*m(y)\n",
    "cov1=zp_ks_mean-zp_mean*ks_mean\n",
    "cov1"
   ]
  },
  {
   "cell_type": "code",
   "execution_count": 22,
   "id": "80c17f82",
   "metadata": {},
   "outputs": [
    {
     "data": {
      "text/plain": [
       "array([[ 3882.93333333, 10175.37777778],\n",
       "       [10175.37777778, 33854.32222222]])"
      ]
     },
     "execution_count": 22,
     "metadata": {},
     "output_type": "execute_result"
    }
   ],
   "source": [
    "#найдем ковариацию функцией\n",
    "cov2=np.cov(zp, ks, ddof=1)\n",
    "cov2"
   ]
  },
  {
   "cell_type": "code",
   "execution_count": 26,
   "id": "a1550b37",
   "metadata": {},
   "outputs": [
    {
     "data": {
      "text/plain": [
       "(59.115480206118605, 174.55340157098058, 0.8874900920739158)"
      ]
     },
     "execution_count": 26,
     "metadata": {},
     "output_type": "execute_result"
    }
   ],
   "source": [
    "#найдем коэф-т пирсона r(xy)=cov(xy)/str(x)*str(y)\n",
    "zp_std=np.std(zp, ddof=0)\n",
    "ks_std=np.std(ks, ddof=0)\n",
    "r=cov1/(zp_std*ks_std)\n",
    "zp_std, ks_std, r\n"
   ]
  },
  {
   "cell_type": "code",
   "execution_count": 27,
   "id": "adee9837",
   "metadata": {},
   "outputs": [
    {
     "data": {
      "text/plain": [
       "array([[1.        , 0.88749009],\n",
       "       [0.88749009, 1.        ]])"
      ]
     },
     "execution_count": 27,
     "metadata": {},
     "output_type": "execute_result"
    }
   ],
   "source": [
    "#найдем коэф-т пирсона функцией\n",
    "np.corrcoef(zp, ks)"
   ]
  },
  {
   "cell_type": "code",
   "execution_count": null,
   "id": "4b69d5af",
   "metadata": {},
   "outputs": [],
   "source": []
  },
  {
   "cell_type": "code",
   "execution_count": null,
   "id": "8d0252a8",
   "metadata": {},
   "outputs": [],
   "source": []
  },
  {
   "cell_type": "code",
   "execution_count": null,
   "id": "c85561da",
   "metadata": {},
   "outputs": [],
   "source": []
  }
 ],
 "metadata": {
  "kernelspec": {
   "display_name": "Python 3 (ipykernel)",
   "language": "python",
   "name": "python3"
  },
  "language_info": {
   "codemirror_mode": {
    "name": "ipython",
    "version": 3
   },
   "file_extension": ".py",
   "mimetype": "text/x-python",
   "name": "python",
   "nbconvert_exporter": "python",
   "pygments_lexer": "ipython3",
   "version": "3.9.13"
  }
 },
 "nbformat": 4,
 "nbformat_minor": 5
}
