{
 "cells": [
  {
   "cell_type": "code",
   "execution_count": 1,
   "id": "6b3910b4",
   "metadata": {},
   "outputs": [],
   "source": [
    "import numpy as np\n",
    "import pandas as pd\n",
    "from scipy import stats"
   ]
  },
  {
   "cell_type": "code",
   "execution_count": 2,
   "id": "cec56e76",
   "metadata": {},
   "outputs": [
    {
     "data": {
      "text/plain": [
       "array([131, 125, 115, 122, 131, 115, 107,  99, 125, 111])"
      ]
     },
     "execution_count": 2,
     "metadata": {},
     "output_type": "execute_result"
    }
   ],
   "source": [
    "#Задача2. Известно, что в генеральной совокупности IQ распределен нормально.\n",
    "# Найдите доверительный интервал для математического ожидания с надежностью 0.95\n",
    "\n",
    "x=[131, 125, 115, 122, 131, 115, 107, 99, 125, 111]\n",
    "np.array(x)"
   ]
  },
  {
   "cell_type": "code",
   "execution_count": 7,
   "id": "9e429e15",
   "metadata": {},
   "outputs": [
    {
     "data": {
      "text/plain": [
       "118.1"
      ]
     },
     "execution_count": 7,
     "metadata": {},
     "output_type": "execute_result"
    }
   ],
   "source": [
    "#найдем среднее по выборке\n",
    "x_mean=np.mean(x)\n",
    "x_mean"
   ]
  },
  {
   "cell_type": "code",
   "execution_count": 5,
   "id": "2d8d2f92",
   "metadata": {},
   "outputs": [
    {
     "data": {
      "text/plain": [
       "111.21111111111111"
      ]
     },
     "execution_count": 5,
     "metadata": {},
     "output_type": "execute_result"
    }
   ],
   "source": [
    "#найдем дисперсию\n",
    "d_x=np.var(x, ddof=1)\n",
    "d_x"
   ]
  },
  {
   "cell_type": "code",
   "execution_count": 6,
   "id": "92632282",
   "metadata": {},
   "outputs": [
    {
     "data": {
      "text/plain": [
       "2.2621571627409915"
      ]
     },
     "execution_count": 6,
     "metadata": {},
     "output_type": "execute_result"
    }
   ],
   "source": [
    "#найдем критерий стьюдента для доверительного интервала 95%, кол-во степеней  сравнения 10-1=9\n",
    "t=stats.t.ppf(0.975,len(x)-1)\n",
    "t"
   ]
  },
  {
   "cell_type": "code",
   "execution_count": 8,
   "id": "c795f4b4",
   "metadata": {},
   "outputs": [
    {
     "data": {
      "text/plain": [
       "197.65563635199214"
      ]
     },
     "execution_count": 8,
     "metadata": {},
     "output_type": "execute_result"
    }
   ],
   "source": [
    "#найдем верхнюю границу интервала\n",
    "t1=x_mean+t*d_x/np.sqrt(10)\n",
    "t1"
   ]
  },
  {
   "cell_type": "code",
   "execution_count": 9,
   "id": "c2b24f21",
   "metadata": {},
   "outputs": [
    {
     "data": {
      "text/plain": [
       "38.54436364800783"
      ]
     },
     "execution_count": 9,
     "metadata": {},
     "output_type": "execute_result"
    }
   ],
   "source": [
    "#найдем нижнюю границу интервала\n",
    "t2=x_mean-t*d_x/np.sqrt(10)\n",
    "t2"
   ]
  },
  {
   "cell_type": "code",
   "execution_count": null,
   "id": "fe47affa",
   "metadata": {},
   "outputs": [],
   "source": []
  }
 ],
 "metadata": {
  "kernelspec": {
   "display_name": "Python 3 (ipykernel)",
   "language": "python",
   "name": "python3"
  },
  "language_info": {
   "codemirror_mode": {
    "name": "ipython",
    "version": 3
   },
   "file_extension": ".py",
   "mimetype": "text/x-python",
   "name": "python",
   "nbconvert_exporter": "python",
   "pygments_lexer": "ipython3",
   "version": "3.9.13"
  }
 },
 "nbformat": 4,
 "nbformat_minor": 5
}
